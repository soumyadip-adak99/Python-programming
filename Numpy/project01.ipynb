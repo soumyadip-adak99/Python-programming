{
 "cells": [
  {
   "cell_type": "code",
   "execution_count": 15,
   "id": "8d241d65",
   "metadata": {},
   "outputs": [],
   "source": [
    "\"\"\"Numpy array basic\"\"\"\n",
    "import numpy as np\n",
    "\n"
   ]
  },
  {
   "cell_type": "markdown",
   "id": "9d94aa20",
   "metadata": {},
   "source": [
    "Creating array from list\n"
   ]
  },
  {
   "cell_type": "code",
   "execution_count": 16,
   "id": "53197e4c",
   "metadata": {},
   "outputs": [
    {
     "name": "stdout",
     "output_type": "stream",
     "text": [
      "[1 2 3 4 5]\n",
      "[[1 2 3 4]\n",
      " [4 5 6 0]]\n"
     ]
    }
   ],
   "source": [
    "arr = np.array([1, 2, 3, 4, 5])\n",
    "print(arr)\n",
    "\n",
    "# To create a proper 2D array, all rows must have the same length\n",
    "array_2d = np.array([[1, 2, 3, 4], [4, 5, 6, 0]])\n",
    "print(array_2d)"
   ]
  },
  {
   "cell_type": "markdown",
   "id": "a8d015c2",
   "metadata": {},
   "source": [
    "Multiplication list vs numpy array"
   ]
  },
  {
   "cell_type": "code",
   "execution_count": null,
   "id": "6073a034",
   "metadata": {},
   "outputs": [],
   "source": [
    "py_list = [1, 2, 3]\n",
    "print(\"Python list multiplication: \", py_list * 2)\n",
    "\n",
    "np_array = np.array([1, 2, 3])  # element whise multiplication\n",
    "print(\"Numpy multiplication: \", np_array * 2)\n",
    "\n",
    "import time\n",
    "\n",
    "start = time.time()\n",
    "\n",
    "py_list = [i * 2 for i in range(10)]\n",
    "print(\"\\nList operation time: \", time.time() - start)\n",
    "\n",
    "start = time.time()\n",
    "\n",
    "np_array = np.arange(10) * 2\n",
    "print(\"\\n Numpy operation time: \", time.time() - start)"
   ]
  }
 ],
 "metadata": {
  "kernelspec": {
   "display_name": ".venv",
   "language": "python",
   "name": "python3"
  },
  "language_info": {
   "codemirror_mode": {
    "name": "ipython",
    "version": 3
   },
   "file_extension": ".py",
   "mimetype": "text/x-python",
   "name": "python",
   "nbconvert_exporter": "python",
   "pygments_lexer": "ipython3",
   "version": "3.13.5"
  }
 },
 "nbformat": 4,
 "nbformat_minor": 5
}
